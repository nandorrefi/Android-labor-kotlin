{
  "nbformat": 4,
  "nbformat_minor": 0,
  "metadata": {
    "kernelspec": {
      "display_name": "Python 3",
      "language": "python",
      "name": "python3"
    },
    "language_info": {
      "codemirror_mode": {
        "name": "ipython",
        "version": 3
      },
      "file_extension": ".py",
      "mimetype": "text/x-python",
      "name": "python",
      "nbconvert_exporter": "python",
      "pygments_lexer": "ipython3",
      "version": "3.6.9"
    },
    "colab": {
      "name": "ef831f9e7f9c301186534f617846416e",
      "provenance": [],
      "include_colab_link": true
    }
  },
  "cells": [
    {
      "cell_type": "markdown",
      "metadata": {
        "id": "view-in-github",
        "colab_type": "text"
      },
      "source": [
        "<a href=\"https://colab.research.google.com/github/nandorrefi/Android-labor-kotlin/blob/master/ef831f9e7f9c301186534f617846416e.ipynb\" target=\"_parent\"><img src=\"https://colab.research.google.com/assets/colab-badge.svg\" alt=\"Open In Colab\"/></a>"
      ]
    },
    {
      "cell_type": "markdown",
      "metadata": {
        "id": "AHfVJ16Qvw_F"
      },
      "source": [
        "# Homework 1 - Nándor Réfi (IDYW5S)\n",
        "\n",
        "## 1. Reading in five 128x128 image and printing them out as matrices"
      ]
    },
    {
      "cell_type": "code",
      "metadata": {
        "id": "qwaRq8anvw_G"
      },
      "source": [
        "from matplotlib import image\n",
        "import os\n",
        "\n",
        "folder = 'images'\n",
        "\n",
        "# read in images\n",
        "images = []\n",
        "img_files = [\"forest.jpg\", \"grass.jpg\", \"guitar.jpg\", \"moon.jpg\", \"smiley.png\"]\n",
        "for file in img_files:\n",
        "    img = image.imread(file)\n",
        "    images.append(img)"
      ],
      "execution_count": null,
      "outputs": []
    },
    {
      "cell_type": "code",
      "metadata": {
        "id": "sQDPoMrJvw_K"
      },
      "source": [
        "import numpy as np\n",
        "\n",
        "data = []\n",
        "\n",
        "# convert images to arrays\n",
        "for img in images:\n",
        "  data.append(np.asarray(img))"
      ],
      "execution_count": null,
      "outputs": []
    },
    {
      "cell_type": "code",
      "metadata": {
        "id": "ut69yoV9vw_M",
        "outputId": "aa779e18-4fe8-4758-d93f-f058ab143ec4"
      },
      "source": [
        "print(data)"
      ],
      "execution_count": null,
      "outputs": [
        {
          "output_type": "stream",
          "text": [
            "[array([[[ 70,  88,  26],\n",
            "        [100, 135,  33],\n",
            "        [108, 144,  46],\n",
            "        ...,\n",
            "        [ 70,  94,  20],\n",
            "        [ 79, 106,  39],\n",
            "        [ 63,  83,  24]],\n",
            "\n",
            "       [[ 68,  87,  23],\n",
            "        [ 93, 119,  32],\n",
            "        [ 85, 113,  28],\n",
            "        ...,\n",
            "        [ 71,  94,  24],\n",
            "        [ 63,  76,  20],\n",
            "        [ 60,  72,  22]],\n",
            "\n",
            "       [[113, 155,  43],\n",
            "        [104, 129,  46],\n",
            "        [ 80,  95,  40],\n",
            "        ...,\n",
            "        [ 67,  88,  19],\n",
            "        [ 66,  88,  15],\n",
            "        [ 58,  79,  14]],\n",
            "\n",
            "       ...,\n",
            "\n",
            "       [[ 57,  59,  19],\n",
            "        [ 54,  56,  17],\n",
            "        [ 57,  63,  15],\n",
            "        ...,\n",
            "        [ 57,  40,  14],\n",
            "        [ 60,  43,  17],\n",
            "        [ 63,  46,  20]],\n",
            "\n",
            "       [[ 51,  53,  16],\n",
            "        [ 58,  61,  18],\n",
            "        [ 63,  65,  16],\n",
            "        ...,\n",
            "        [ 54,  38,  15],\n",
            "        [ 53,  35,  11],\n",
            "        [ 79,  70,  55]],\n",
            "\n",
            "       [[ 52,  52,  14],\n",
            "        [ 60,  63,  16],\n",
            "        [ 63,  66,  19],\n",
            "        ...,\n",
            "        [ 49,  30,  13],\n",
            "        [ 51,  33,   9],\n",
            "        [ 63,  50,  31]]], dtype=uint8), array([[[ 81, 127,  19],\n",
            "        [134, 171,  66],\n",
            "        [169, 194,  90],\n",
            "        ...,\n",
            "        [ 89, 120,  16],\n",
            "        [128, 168,  54],\n",
            "        [ 97, 147,  22]],\n",
            "\n",
            "       [[ 87, 130,  25],\n",
            "        [ 78, 116,  13],\n",
            "        [134, 165,  61],\n",
            "        ...,\n",
            "        [ 74, 101,   0],\n",
            "        [ 92, 128,  18],\n",
            "        [102, 145,  27]],\n",
            "\n",
            "       [[ 78, 115,  19],\n",
            "        [ 51,  87,   0],\n",
            "        [ 78, 111,   7],\n",
            "        ...,\n",
            "        [125, 148,  42],\n",
            "        [ 92, 119,  12],\n",
            "        [ 87, 119,   8]],\n",
            "\n",
            "       ...,\n",
            "\n",
            "       [[114, 128,  66],\n",
            "        [ 31,  48,   0],\n",
            "        [ 58,  80,   0],\n",
            "        ...,\n",
            "        [ 93, 113,  26],\n",
            "        [ 62,  82,  10],\n",
            "        [ 42,  60,   0]],\n",
            "\n",
            "       [[106, 125,  44],\n",
            "        [ 71,  90,   9],\n",
            "        [ 92, 115,  27],\n",
            "        ...,\n",
            "        [133, 160,  57],\n",
            "        [ 91, 116,  22],\n",
            "        [123, 145,  60]],\n",
            "\n",
            "       [[122, 144,  44],\n",
            "        [130, 154,  58],\n",
            "        [136, 159,  68],\n",
            "        ...,\n",
            "        [116, 150,  27],\n",
            "        [145, 176,  56],\n",
            "        [154, 183,  67]]], dtype=uint8), array([[[250, 244, 232],\n",
            "        [250, 244, 232],\n",
            "        [250, 244, 232],\n",
            "        ...,\n",
            "        [249, 242, 234],\n",
            "        [249, 242, 234],\n",
            "        [250, 243, 235]],\n",
            "\n",
            "       [[250, 244, 232],\n",
            "        [250, 244, 232],\n",
            "        [250, 244, 232],\n",
            "        ...,\n",
            "        [249, 242, 234],\n",
            "        [249, 242, 234],\n",
            "        [250, 243, 235]],\n",
            "\n",
            "       [[250, 244, 232],\n",
            "        [250, 244, 232],\n",
            "        [250, 244, 232],\n",
            "        ...,\n",
            "        [249, 242, 234],\n",
            "        [250, 243, 235],\n",
            "        [250, 243, 235]],\n",
            "\n",
            "       ...,\n",
            "\n",
            "       [[230, 222, 220],\n",
            "        [230, 222, 220],\n",
            "        [229, 221, 219],\n",
            "        ...,\n",
            "        [206, 196, 195],\n",
            "        [205, 195, 194],\n",
            "        [205, 195, 194]],\n",
            "\n",
            "       [[230, 222, 220],\n",
            "        [230, 222, 220],\n",
            "        [229, 221, 219],\n",
            "        ...,\n",
            "        [205, 195, 194],\n",
            "        [205, 195, 194],\n",
            "        [205, 195, 194]],\n",
            "\n",
            "       [[230, 222, 220],\n",
            "        [229, 221, 219],\n",
            "        [229, 221, 219],\n",
            "        ...,\n",
            "        [205, 195, 194],\n",
            "        [205, 195, 194],\n",
            "        [205, 195, 194]]], dtype=uint8), array([[[ 2, 28, 29],\n",
            "        [ 2, 28, 29],\n",
            "        [ 3, 27, 29],\n",
            "        ...,\n",
            "        [ 5, 23, 23],\n",
            "        [ 4, 24, 25],\n",
            "        [ 5, 24, 28]],\n",
            "\n",
            "       [[ 2, 28, 29],\n",
            "        [ 2, 28, 29],\n",
            "        [ 3, 27, 31],\n",
            "        ...,\n",
            "        [ 4, 24, 25],\n",
            "        [ 4, 24, 25],\n",
            "        [ 4, 23, 27]],\n",
            "\n",
            "       [[ 2, 28, 29],\n",
            "        [ 2, 27, 31],\n",
            "        [ 2, 27, 31],\n",
            "        ...,\n",
            "        [ 3, 24, 27],\n",
            "        [ 3, 24, 27],\n",
            "        [ 3, 24, 25]],\n",
            "\n",
            "       ...,\n",
            "\n",
            "       [[ 3, 27, 29],\n",
            "        [ 3, 27, 29],\n",
            "        [ 3, 27, 29],\n",
            "        ...,\n",
            "        [ 3, 24, 27],\n",
            "        [ 3, 24, 27],\n",
            "        [ 3, 24, 27]],\n",
            "\n",
            "       [[ 3, 27, 29],\n",
            "        [ 3, 27, 29],\n",
            "        [ 3, 27, 29],\n",
            "        ...,\n",
            "        [ 3, 24, 27],\n",
            "        [ 3, 24, 27],\n",
            "        [ 3, 24, 27]],\n",
            "\n",
            "       [[ 2, 26, 26],\n",
            "        [ 2, 26, 28],\n",
            "        [ 3, 27, 29],\n",
            "        ...,\n",
            "        [ 1, 25, 27],\n",
            "        [ 3, 24, 27],\n",
            "        [ 3, 24, 27]]], dtype=uint8), array([[[1., 1., 1.],\n",
            "        [1., 1., 1.],\n",
            "        [1., 1., 1.],\n",
            "        ...,\n",
            "        [1., 1., 1.],\n",
            "        [1., 1., 1.],\n",
            "        [1., 1., 1.]],\n",
            "\n",
            "       [[1., 1., 1.],\n",
            "        [1., 1., 1.],\n",
            "        [1., 1., 1.],\n",
            "        ...,\n",
            "        [1., 1., 1.],\n",
            "        [1., 1., 1.],\n",
            "        [1., 1., 1.]],\n",
            "\n",
            "       [[1., 1., 1.],\n",
            "        [1., 1., 1.],\n",
            "        [1., 1., 1.],\n",
            "        ...,\n",
            "        [1., 1., 1.],\n",
            "        [1., 1., 1.],\n",
            "        [1., 1., 1.]],\n",
            "\n",
            "       ...,\n",
            "\n",
            "       [[1., 1., 1.],\n",
            "        [1., 1., 1.],\n",
            "        [1., 1., 1.],\n",
            "        ...,\n",
            "        [1., 1., 1.],\n",
            "        [1., 1., 1.],\n",
            "        [1., 1., 1.]],\n",
            "\n",
            "       [[1., 1., 1.],\n",
            "        [1., 1., 1.],\n",
            "        [1., 1., 1.],\n",
            "        ...,\n",
            "        [1., 1., 1.],\n",
            "        [1., 1., 1.],\n",
            "        [1., 1., 1.]],\n",
            "\n",
            "       [[1., 1., 1.],\n",
            "        [1., 1., 1.],\n",
            "        [1., 1., 1.],\n",
            "        ...,\n",
            "        [1., 1., 1.],\n",
            "        [1., 1., 1.],\n",
            "        [1., 1., 1.]]], dtype=float32)]\n"
          ],
          "name": "stdout"
        }
      ]
    },
    {
      "cell_type": "markdown",
      "metadata": {
        "id": "NvIjJkoyvw_Q"
      },
      "source": [
        "## 2. Printing out average and deviaton of RGB channels then transform the datasets into having 0 expected value and 1 deviation"
      ]
    },
    {
      "cell_type": "code",
      "metadata": {
        "id": "YyPy3GEyvw_R"
      },
      "source": [
        "# separate RGB values\n",
        "R = []\n",
        "G = []\n",
        "B = []\n",
        "for i in data:\n",
        "  for row in i:\n",
        "    for pixel in row:\n",
        "      R.append(pixel[0])\n",
        "      G.append(pixel[1])\n",
        "      B.append(pixel[2])"
      ],
      "execution_count": null,
      "outputs": []
    },
    {
      "cell_type": "code",
      "metadata": {
        "id": "SOgEHK-Tvw_W"
      },
      "source": [
        "def print_array_avg_and_dev(name, array):\n",
        "  print(name, 'average:', np.average(array), ', deviation:', np.std(array))"
      ],
      "execution_count": null,
      "outputs": []
    },
    {
      "cell_type": "code",
      "metadata": {
        "id": "3mhgmyoAvw_b",
        "outputId": "8cb1df95-06f6-47ca-f410-6c9916537b17"
      },
      "source": [
        "print_array_avg_and_dev('R', R)\n",
        "print_array_avg_and_dev('G', G)\n",
        "print_array_avg_and_dev('B', B)"
      ],
      "execution_count": null,
      "outputs": [
        {
          "output_type": "stream",
          "text": [
            "R average: 75.012955 , deviation: 72.25811\n",
            "G average: 84.09276 , deviation: 74.303955\n",
            "B average: 52.299683 , deviation: 64.77234\n"
          ],
          "name": "stdout"
        }
      ]
    },
    {
      "cell_type": "code",
      "metadata": {
        "id": "4bF11DTMvw_g"
      },
      "source": [
        "# transform an array to have 0 expected value and 1 deviation\n",
        "def transform_array(a):\n",
        "  res = a.copy()\n",
        "  avg = np.average(res)\n",
        "  dev = np.std(res)\n",
        "  for i in range(len(res)):\n",
        "    res[i] = (res[i] - avg)/dev\n",
        "  return res"
      ],
      "execution_count": null,
      "outputs": []
    },
    {
      "cell_type": "code",
      "metadata": {
        "id": "geAqYJFdvw_n"
      },
      "source": [
        "R = transform_array(R)\n",
        "G = transform_array(G)\n",
        "B = transform_array(B)"
      ],
      "execution_count": null,
      "outputs": []
    },
    {
      "cell_type": "code",
      "metadata": {
        "id": "P5nP5Iffvw_q",
        "outputId": "899e94da-9823-42be-f816-d86d548c769d"
      },
      "source": [
        "# close enough\n",
        "print_array_avg_and_dev('R', R)\n",
        "print_array_avg_and_dev('G', G)\n",
        "print_array_avg_and_dev('B', B)"
      ],
      "execution_count": null,
      "outputs": [
        {
          "output_type": "stream",
          "text": [
            "R average: -5.9604645e-08 , deviation: 1.0\n",
            "G average: 2.3841858e-08 , deviation: 1.0\n",
            "B average: 3.576279e-08 , deviation: 0.99999994\n"
          ],
          "name": "stdout"
        }
      ]
    },
    {
      "cell_type": "markdown",
      "metadata": {
        "id": "-GUGCftrvw_t"
      },
      "source": [
        "## 3. Reading in an audio file and representing it on a spectogram"
      ]
    },
    {
      "cell_type": "code",
      "metadata": {
        "id": "nu_wpEdNvw_u"
      },
      "source": [
        "import wave\n",
        "import sys\n",
        "import matplotlib.pyplot as plt\n",
        "\n",
        "# open audiofile\n",
        "file = wave.open('audio1.wav', \"r\")\n",
        "\n",
        "# create array of signals\n",
        "raw = file.readframes(-1)\n",
        "signal = np.frombuffer(raw, np.int16)\n"
      ],
      "execution_count": null,
      "outputs": []
    },
    {
      "cell_type": "code",
      "metadata": {
        "id": "U39euD2Hvw_w",
        "outputId": "c5d43bfa-167f-41f6-a71c-8c98722224d0"
      },
      "source": [
        "# plot spectogram\n",
        "plt.plot(signal)\n",
        "plt.xlim([0, 70000])\n",
        "plt.show()"
      ],
      "execution_count": null,
      "outputs": [
        {
          "output_type": "display_data",
          "data": {
            "image/png": "[encoded data removed]",
            "text/plain": [
              "<Figure size 432x288 with 1 Axes>"
            ]
          },
          "metadata": {
            "tags": [],
            "needs_background": "light"
          }
        }
      ]
    },
    {
      "cell_type": "markdown",
      "metadata": {
        "id": "FqxhHu-svw_3"
      },
      "source": [
        "## 4. Creating a histogram on the frequency of letters in web page text"
      ]
    },
    {
      "cell_type": "code",
      "metadata": {
        "id": "kWQRza4cvw_4"
      },
      "source": [
        "import requests\n",
        "from bs4 import BeautifulSoup\n",
        "from collections import defaultdict"
      ],
      "execution_count": null,
      "outputs": []
    },
    {
      "cell_type": "code",
      "metadata": {
        "id": "UrCfWwADvw_8"
      },
      "source": [
        "# read in text from html\n",
        "url = 'https://en.wikipedia.org/wiki/Deep_learning'\n",
        "html = requests.get(url).text\n",
        "text = BeautifulSoup(html).get_text()"
      ],
      "execution_count": null,
      "outputs": []
    },
    {
      "cell_type": "code",
      "metadata": {
        "id": "ruI1Zig1vxAC"
      },
      "source": [
        "# calculate frequency of letters\n",
        "dictionary = defaultdict(int)\n",
        "for char in text:\n",
        "    if 'a' < char < 'z' or 'A' < char < 'Z':\n",
        "        dictionary[char] += 1"
      ],
      "execution_count": null,
      "outputs": []
    },
    {
      "cell_type": "code",
      "metadata": {
        "id": "nNnttsg5vxAJ",
        "outputId": "968df573-470b-4a7e-dc59-587d801e691c"
      },
      "source": [
        "# plot histogram\n",
        "plt.bar(range(len(dictionary)), list(dictionary.values()), align='center')\n",
        "plt.xticks(range(len(dictionary)), list(dictionary.keys()))\n",
        "plt.show()"
      ],
      "execution_count": null,
      "outputs": [
        {
          "output_type": "display_data",
          "data": {
            "image/png": "[encoded data removed]",
            "text/plain": [
              "<Figure size 432x288 with 1 Axes>"
            ]
          },
          "metadata": {
            "tags": [],
            "needs_background": "light"
          }
        }
      ]
    }
  ]
}